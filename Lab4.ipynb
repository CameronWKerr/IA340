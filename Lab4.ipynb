{
 "cells": [
  {
   "cell_type": "markdown",
   "id": "c7a575cd",
   "metadata": {},
   "source": [
    "# import lib"
   ]
  },
  {
   "cell_type": "code",
   "execution_count": 1,
   "id": "8e971e74",
   "metadata": {},
   "outputs": [
    {
     "name": "stderr",
     "output_type": "stream",
     "text": [
      "/home/ec2-user/anaconda3/envs/python3/lib/python3.6/site-packages/psycopg2/__init__.py:144: UserWarning: The psycopg2 wheel package will be renamed from release 2.8; in order to keep installing from binary please use \"pip install psycopg2-binary\" instead. For details see: <http://initd.org/psycopg/docs/install.html#binary-install-from-pypi>.\n",
      "  \"\"\")\n"
     ]
    }
   ],
   "source": [
    "import pandas\n",
    "import psycopg2\n",
    "import configparser"
   ]
  },
  {
   "cell_type": "markdown",
   "id": "d1432bed",
   "metadata": {},
   "source": [
    "# connect to db"
   ]
  },
  {
   "cell_type": "code",
   "execution_count": 65,
   "id": "0e72dc28",
   "metadata": {},
   "outputs": [],
   "source": [
    "config = configparser.ConfigParser()\n",
    "config.read('config.ini')\n",
    "\n",
    "host=config['myaws']['host']\n",
    "db=config['myaws']['db']\n",
    "user=config['myaws']['user']\n",
    "pwd = config['myaws']['pwd']\n",
    "\n",
    "conn = psycopg2.connect(  host=host,\n",
    "                       user=user,\n",
    "                       password = pwd,\n",
    "                       dbname=db)"
   ]
  },
  {
   "cell_type": "code",
   "execution_count": 3,
   "id": "c460af3c",
   "metadata": {},
   "outputs": [],
   "source": [
    "cur=conn.cursor()"
   ]
  },
  {
   "cell_type": "markdown",
   "id": "74e9b3a2",
   "metadata": {},
   "source": [
    "#q1"
   ]
  },
  {
   "cell_type": "code",
   "execution_count": 4,
   "id": "e1e5da08",
   "metadata": {},
   "outputs": [],
   "source": [
    "q1_sql = \"\"\"\n",
    "        select * from gp15.student\n",
    "\"\"\""
   ]
  },
  {
   "cell_type": "code",
   "execution_count": 5,
   "id": "e8617b35",
   "metadata": {},
   "outputs": [
    {
     "data": {
      "text/html": [
       "<div>\n",
       "<style scoped>\n",
       "    .dataframe tbody tr th:only-of-type {\n",
       "        vertical-align: middle;\n",
       "    }\n",
       "\n",
       "    .dataframe tbody tr th {\n",
       "        vertical-align: top;\n",
       "    }\n",
       "\n",
       "    .dataframe thead th {\n",
       "        text-align: right;\n",
       "    }\n",
       "</style>\n",
       "<table border=\"1\" class=\"dataframe\">\n",
       "  <thead>\n",
       "    <tr style=\"text-align: right;\">\n",
       "      <th></th>\n",
       "      <th>s_email</th>\n",
       "      <th>s_name</th>\n",
       "      <th>major</th>\n",
       "    </tr>\n",
       "  </thead>\n",
       "  <tbody>\n",
       "    <tr>\n",
       "      <th>0</th>\n",
       "      <td>kerrcw@jmu.edu</td>\n",
       "      <td>Cameron Kerr</td>\n",
       "      <td>IA</td>\n",
       "    </tr>\n",
       "    <tr>\n",
       "      <th>1</th>\n",
       "      <td>doejohn@jmu.edu</td>\n",
       "      <td>John Doe</td>\n",
       "      <td>Marketing</td>\n",
       "    </tr>\n",
       "    <tr>\n",
       "      <th>2</th>\n",
       "      <td>doejane@jmu.edu</td>\n",
       "      <td>Jane Doe</td>\n",
       "      <td>Accounting</td>\n",
       "    </tr>\n",
       "    <tr>\n",
       "      <th>3</th>\n",
       "      <td>smithr@jmu.edu</td>\n",
       "      <td>Rob Smith</td>\n",
       "      <td>Finance</td>\n",
       "    </tr>\n",
       "  </tbody>\n",
       "</table>\n",
       "</div>"
      ],
      "text/plain": [
       "           s_email        s_name       major\n",
       "0   kerrcw@jmu.edu  Cameron Kerr          IA\n",
       "1  doejohn@jmu.edu      John Doe   Marketing\n",
       "2  doejane@jmu.edu      Jane Doe  Accounting\n",
       "3   smithr@jmu.edu     Rob Smith     Finance"
      ]
     },
     "execution_count": 5,
     "metadata": {},
     "output_type": "execute_result"
    }
   ],
   "source": [
    "df=pandas.read_sql_query(q1_sql,conn)\n",
    "df[:]"
   ]
  },
  {
   "cell_type": "markdown",
   "id": "511cfb81",
   "metadata": {},
   "source": [
    "#q2"
   ]
  },
  {
   "cell_type": "code",
   "execution_count": 6,
   "id": "0cb280bd",
   "metadata": {},
   "outputs": [],
   "source": [
    "q2_sql = \"\"\"\n",
    "                    select gp15.professor.p_name, gp15.course.c_name\n",
    "                    from gp15.professor\n",
    "                    inner join gp15.course\n",
    "                    on gp15.professor.p_email=gp15.course.p_email\n",
    "                    \"\"\""
   ]
  },
  {
   "cell_type": "code",
   "execution_count": 7,
   "id": "25be9ce9",
   "metadata": {},
   "outputs": [
    {
     "data": {
      "text/html": [
       "<div>\n",
       "<style scoped>\n",
       "    .dataframe tbody tr th:only-of-type {\n",
       "        vertical-align: middle;\n",
       "    }\n",
       "\n",
       "    .dataframe tbody tr th {\n",
       "        vertical-align: top;\n",
       "    }\n",
       "\n",
       "    .dataframe thead th {\n",
       "        text-align: right;\n",
       "    }\n",
       "</style>\n",
       "<table border=\"1\" class=\"dataframe\">\n",
       "  <thead>\n",
       "    <tr style=\"text-align: right;\">\n",
       "      <th></th>\n",
       "      <th>p_name</th>\n",
       "      <th>c_name</th>\n",
       "    </tr>\n",
       "  </thead>\n",
       "  <tbody>\n",
       "    <tr>\n",
       "      <th>0</th>\n",
       "      <td>Xuebin Wei</td>\n",
       "      <td>Data Mining</td>\n",
       "    </tr>\n",
       "    <tr>\n",
       "      <th>1</th>\n",
       "      <td>Noel Hendrickson</td>\n",
       "      <td>Counterfactual Reasoning</td>\n",
       "    </tr>\n",
       "    <tr>\n",
       "      <th>2</th>\n",
       "      <td>Ronald Raab</td>\n",
       "      <td>WMDs</td>\n",
       "    </tr>\n",
       "    <tr>\n",
       "      <th>3</th>\n",
       "      <td>Xuebin Wei</td>\n",
       "      <td>Data Visualization</td>\n",
       "    </tr>\n",
       "    <tr>\n",
       "      <th>4</th>\n",
       "      <td>Bob Jones</td>\n",
       "      <td>Intro to IA</td>\n",
       "    </tr>\n",
       "    <tr>\n",
       "      <th>5</th>\n",
       "      <td>Bob Jones</td>\n",
       "      <td>Seminar on Issues in IA</td>\n",
       "    </tr>\n",
       "    <tr>\n",
       "      <th>6</th>\n",
       "      <td>Prof 7</td>\n",
       "      <td>counterprolif</td>\n",
       "    </tr>\n",
       "  </tbody>\n",
       "</table>\n",
       "</div>"
      ],
      "text/plain": [
       "             p_name                    c_name\n",
       "0        Xuebin Wei               Data Mining\n",
       "1  Noel Hendrickson  Counterfactual Reasoning\n",
       "2       Ronald Raab                      WMDs\n",
       "3        Xuebin Wei        Data Visualization\n",
       "4         Bob Jones               Intro to IA\n",
       "5         Bob Jones   Seminar on Issues in IA\n",
       "6            Prof 7             counterprolif"
      ]
     },
     "execution_count": 7,
     "metadata": {},
     "output_type": "execute_result"
    }
   ],
   "source": [
    "df=pandas.read_sql_query(q2_sql,conn)\n",
    "df[:]"
   ]
  },
  {
   "cell_type": "markdown",
   "id": "1a629f0e",
   "metadata": {},
   "source": [
    "#q3"
   ]
  },
  {
   "cell_type": "code",
   "execution_count": 66,
   "id": "e26d417d",
   "metadata": {},
   "outputs": [],
   "source": [
    "q3_sql = \"\"\"\n",
    "            select c_number, count(*) as num_enrolled\n",
    "            from gp15.enroll\n",
    "            group by c_number\n",
    "            order by num_enrolled desc\n",
    "\"\"\""
   ]
  },
  {
   "cell_type": "code",
   "execution_count": 67,
   "id": "d5cc43ca",
   "metadata": {},
   "outputs": [
    {
     "data": {
      "text/html": [
       "<div>\n",
       "<style scoped>\n",
       "    .dataframe tbody tr th:only-of-type {\n",
       "        vertical-align: middle;\n",
       "    }\n",
       "\n",
       "    .dataframe tbody tr th {\n",
       "        vertical-align: top;\n",
       "    }\n",
       "\n",
       "    .dataframe thead th {\n",
       "        text-align: right;\n",
       "    }\n",
       "</style>\n",
       "<table border=\"1\" class=\"dataframe\">\n",
       "  <thead>\n",
       "    <tr style=\"text-align: right;\">\n",
       "      <th></th>\n",
       "      <th>c_number</th>\n",
       "      <th>num_enrolled</th>\n",
       "    </tr>\n",
       "  </thead>\n",
       "  <tbody>\n",
       "    <tr>\n",
       "      <th>0</th>\n",
       "      <td>IA313</td>\n",
       "      <td>4</td>\n",
       "    </tr>\n",
       "    <tr>\n",
       "      <th>1</th>\n",
       "      <td>IA340</td>\n",
       "      <td>2</td>\n",
       "    </tr>\n",
       "    <tr>\n",
       "      <th>2</th>\n",
       "      <td>IA460</td>\n",
       "      <td>2</td>\n",
       "    </tr>\n",
       "    <tr>\n",
       "      <th>3</th>\n",
       "      <td>IA300</td>\n",
       "      <td>2</td>\n",
       "    </tr>\n",
       "  </tbody>\n",
       "</table>\n",
       "</div>"
      ],
      "text/plain": [
       "  c_number  num_enrolled\n",
       "0    IA313             4\n",
       "1    IA340             2\n",
       "2    IA460             2\n",
       "3    IA300             2"
      ]
     },
     "execution_count": 67,
     "metadata": {},
     "output_type": "execute_result"
    }
   ],
   "source": [
    "df=pandas.read_sql_query(q3_sql,conn)\n",
    "df[:]"
   ]
  },
  {
   "cell_type": "code",
   "execution_count": 68,
   "id": "e869408f",
   "metadata": {},
   "outputs": [
    {
     "data": {
      "text/plain": [
       "<AxesSubplot:xlabel='c_number'>"
      ]
     },
     "execution_count": 68,
     "metadata": {},
     "output_type": "execute_result"
    },
    {
     "data": {
      "image/png": "[encoded data removed]",
      "text/plain": [
       "<Figure size 432x288 with 1 Axes>"
      ]
     },
     "metadata": {
      "needs_background": "light"
     },
     "output_type": "display_data"
    }
   ],
   "source": [
    "df.plot.bar(x='c_number', y='num_enrolled')"
   ]
  },
  {
   "cell_type": "markdown",
   "id": "efd86fe2",
   "metadata": {},
   "source": [
    "#q4"
   ]
  },
  {
   "cell_type": "code",
   "execution_count": 60,
   "id": "fb8313c5",
   "metadata": {},
   "outputs": [],
   "source": [
    "q4_sql = \"\"\"\n",
    "            select gp15.professor.p_name, count(*) as num_teaching\n",
    "            from gp15.professor\n",
    "            inner join gp15.course\n",
    "            on gp15.professor.p_email=gp15.course.p_email\n",
    "            \n",
    "            group by gp15.professor.p_name\n",
    "            order by num_teaching desc\n",
    "\"\"\""
   ]
  },
  {
   "cell_type": "code",
   "execution_count": 61,
   "id": "a0029f74",
   "metadata": {},
   "outputs": [
    {
     "data": {
      "text/html": [
       "<div>\n",
       "<style scoped>\n",
       "    .dataframe tbody tr th:only-of-type {\n",
       "        vertical-align: middle;\n",
       "    }\n",
       "\n",
       "    .dataframe tbody tr th {\n",
       "        vertical-align: top;\n",
       "    }\n",
       "\n",
       "    .dataframe thead th {\n",
       "        text-align: right;\n",
       "    }\n",
       "</style>\n",
       "<table border=\"1\" class=\"dataframe\">\n",
       "  <thead>\n",
       "    <tr style=\"text-align: right;\">\n",
       "      <th></th>\n",
       "      <th>p_name</th>\n",
       "      <th>num_teaching</th>\n",
       "    </tr>\n",
       "  </thead>\n",
       "  <tbody>\n",
       "    <tr>\n",
       "      <th>0</th>\n",
       "      <td>Xuebin Wei</td>\n",
       "      <td>2</td>\n",
       "    </tr>\n",
       "    <tr>\n",
       "      <th>1</th>\n",
       "      <td>Bob Jones</td>\n",
       "      <td>2</td>\n",
       "    </tr>\n",
       "    <tr>\n",
       "      <th>2</th>\n",
       "      <td>Prof 7</td>\n",
       "      <td>2</td>\n",
       "    </tr>\n",
       "    <tr>\n",
       "      <th>3</th>\n",
       "      <td>Noel Hendrickson</td>\n",
       "      <td>1</td>\n",
       "    </tr>\n",
       "    <tr>\n",
       "      <th>4</th>\n",
       "      <td>Ronald Raab</td>\n",
       "      <td>1</td>\n",
       "    </tr>\n",
       "  </tbody>\n",
       "</table>\n",
       "</div>"
      ],
      "text/plain": [
       "             p_name  num_teaching\n",
       "0        Xuebin Wei             2\n",
       "1         Bob Jones             2\n",
       "2            Prof 7             2\n",
       "3  Noel Hendrickson             1\n",
       "4       Ronald Raab             1"
      ]
     },
     "execution_count": 61,
     "metadata": {},
     "output_type": "execute_result"
    }
   ],
   "source": [
    "df=pandas.read_sql_query(q4_sql,conn)\n",
    "df[:]"
   ]
  },
  {
   "cell_type": "code",
   "execution_count": 62,
   "id": "a72ddb06",
   "metadata": {},
   "outputs": [
    {
     "data": {
      "text/plain": [
       "<AxesSubplot:xlabel='p_name'>"
      ]
     },
     "execution_count": 62,
     "metadata": {},
     "output_type": "execute_result"
    },
    {
     "data": {
      "image/png": "[encoded data removed]",
      "text/plain": [
       "<Figure size 432x288 with 1 Axes>"
      ]
     },
     "metadata": {
      "needs_background": "light"
     },
     "output_type": "display_data"
    }
   ],
   "source": [
    "df.plot.bar(x='p_name', y='num_teaching')"
   ]
  },
  {
   "cell_type": "markdown",
   "id": "e75f8f53",
   "metadata": {},
   "source": [
    "#q5"
   ]
  },
  {
   "cell_type": "code",
   "execution_count": 34,
   "id": "a8b3d678",
   "metadata": {},
   "outputs": [],
   "source": [
    "q5_sql = \"\"\"\n",
    "            insert into gp15.professor (p_email, p_name, p_office)\n",
    "            values ('{}','{}','{}')\n",
    "            \n",
    "\"\"\".format('prof8@jmu.edu', 'Prof 8', 'ISAT1234')"
   ]
  },
  {
   "cell_type": "code",
   "execution_count": 35,
   "id": "4b7bbd2d",
   "metadata": {},
   "outputs": [],
   "source": [
    "cur.execute(q5_sql)"
   ]
  },
  {
   "cell_type": "code",
   "execution_count": 36,
   "id": "75db4403",
   "metadata": {},
   "outputs": [],
   "source": [
    "conn.commit()"
   ]
  },
  {
   "cell_type": "code",
   "execution_count": 37,
   "id": "c6b4fd68",
   "metadata": {},
   "outputs": [
    {
     "data": {
      "text/html": [
       "<div>\n",
       "<style scoped>\n",
       "    .dataframe tbody tr th:only-of-type {\n",
       "        vertical-align: middle;\n",
       "    }\n",
       "\n",
       "    .dataframe tbody tr th {\n",
       "        vertical-align: top;\n",
       "    }\n",
       "\n",
       "    .dataframe thead th {\n",
       "        text-align: right;\n",
       "    }\n",
       "</style>\n",
       "<table border=\"1\" class=\"dataframe\">\n",
       "  <thead>\n",
       "    <tr style=\"text-align: right;\">\n",
       "      <th></th>\n",
       "      <th>p_email</th>\n",
       "      <th>p_name</th>\n",
       "      <th>p_office</th>\n",
       "    </tr>\n",
       "  </thead>\n",
       "  <tbody>\n",
       "    <tr>\n",
       "      <th>0</th>\n",
       "      <td>weixx@jmu.edu</td>\n",
       "      <td>Xuebin Wei</td>\n",
       "      <td>HHS112</td>\n",
       "    </tr>\n",
       "    <tr>\n",
       "      <th>1</th>\n",
       "      <td>raabrw@jmu.edu</td>\n",
       "      <td>Ronald Raab</td>\n",
       "      <td>ISAT156</td>\n",
       "    </tr>\n",
       "    <tr>\n",
       "      <th>2</th>\n",
       "      <td>hendrix@jmu.edu</td>\n",
       "      <td>Noel Hendrickson</td>\n",
       "      <td>ISAT117</td>\n",
       "    </tr>\n",
       "    <tr>\n",
       "      <th>3</th>\n",
       "      <td>prof123@jmu.edu</td>\n",
       "      <td>Bob Jones</td>\n",
       "      <td>ISAT 111</td>\n",
       "    </tr>\n",
       "    <tr>\n",
       "      <th>4</th>\n",
       "      <td>prof7@jmu.edu</td>\n",
       "      <td>Prof 7</td>\n",
       "      <td>ISAT123</td>\n",
       "    </tr>\n",
       "    <tr>\n",
       "      <th>5</th>\n",
       "      <td>prof8@jmu.edu</td>\n",
       "      <td>Prof 8</td>\n",
       "      <td>ISAT1234</td>\n",
       "    </tr>\n",
       "  </tbody>\n",
       "</table>\n",
       "</div>"
      ],
      "text/plain": [
       "           p_email            p_name  p_office\n",
       "0    weixx@jmu.edu        Xuebin Wei    HHS112\n",
       "1   raabrw@jmu.edu       Ronald Raab   ISAT156\n",
       "2  hendrix@jmu.edu  Noel Hendrickson   ISAT117\n",
       "3  prof123@jmu.edu         Bob Jones  ISAT 111\n",
       "4    prof7@jmu.edu            Prof 7   ISAT123\n",
       "5    prof8@jmu.edu            Prof 8  ISAT1234"
      ]
     },
     "execution_count": 37,
     "metadata": {},
     "output_type": "execute_result"
    }
   ],
   "source": [
    "df=pandas.read_sql_query('select * from gp15.professor',conn)\n",
    "df[:]"
   ]
  },
  {
   "cell_type": "code",
   "execution_count": 41,
   "id": "ca04273b",
   "metadata": {},
   "outputs": [],
   "source": [
    "q5pt2_sql = \"\"\"\n",
    "        insert into gp15.course(c_number, c_name, c_room, p_email)\n",
    "        values ('{}','{}','{}','{}')\n",
    "\"\"\".format('IA333', 'counterprolif', 'ISAT555', 'prof7@jmu.edu')"
   ]
  },
  {
   "cell_type": "code",
   "execution_count": 42,
   "id": "3283dcb4",
   "metadata": {},
   "outputs": [],
   "source": [
    "cur.execute(q5pt2_sql)"
   ]
  },
  {
   "cell_type": "code",
   "execution_count": 43,
   "id": "db565f10",
   "metadata": {},
   "outputs": [],
   "source": [
    "conn.commit()"
   ]
  },
  {
   "cell_type": "code",
   "execution_count": 44,
   "id": "d2a376b5",
   "metadata": {},
   "outputs": [
    {
     "data": {
      "text/html": [
       "<div>\n",
       "<style scoped>\n",
       "    .dataframe tbody tr th:only-of-type {\n",
       "        vertical-align: middle;\n",
       "    }\n",
       "\n",
       "    .dataframe tbody tr th {\n",
       "        vertical-align: top;\n",
       "    }\n",
       "\n",
       "    .dataframe thead th {\n",
       "        text-align: right;\n",
       "    }\n",
       "</style>\n",
       "<table border=\"1\" class=\"dataframe\">\n",
       "  <thead>\n",
       "    <tr style=\"text-align: right;\">\n",
       "      <th></th>\n",
       "      <th>c_number</th>\n",
       "      <th>c_name</th>\n",
       "      <th>c_room</th>\n",
       "      <th>p_email</th>\n",
       "    </tr>\n",
       "  </thead>\n",
       "  <tbody>\n",
       "    <tr>\n",
       "      <th>0</th>\n",
       "      <td>IA340</td>\n",
       "      <td>Data Mining</td>\n",
       "      <td>ENGEO2010</td>\n",
       "      <td>weixx@jmu.edu</td>\n",
       "    </tr>\n",
       "    <tr>\n",
       "      <th>1</th>\n",
       "      <td>IA313</td>\n",
       "      <td>Counterfactual Reasoning</td>\n",
       "      <td>ENGEO1204</td>\n",
       "      <td>hendrix@jmu.edu</td>\n",
       "    </tr>\n",
       "    <tr>\n",
       "      <th>2</th>\n",
       "      <td>IA460</td>\n",
       "      <td>WMDs</td>\n",
       "      <td>ISAT141</td>\n",
       "      <td>raabrw@jmu.edu</td>\n",
       "    </tr>\n",
       "    <tr>\n",
       "      <th>3</th>\n",
       "      <td>IA341</td>\n",
       "      <td>Data Visualization</td>\n",
       "      <td>ISAT123</td>\n",
       "      <td>weixx@jmu.edu</td>\n",
       "    </tr>\n",
       "    <tr>\n",
       "      <th>4</th>\n",
       "      <td>IA 150</td>\n",
       "      <td>Intro to IA</td>\n",
       "      <td>ISAT 111</td>\n",
       "      <td>prof123@jmu.edu</td>\n",
       "    </tr>\n",
       "    <tr>\n",
       "      <th>5</th>\n",
       "      <td>IA300</td>\n",
       "      <td>Seminar on Issues in IA</td>\n",
       "      <td>ISAT150</td>\n",
       "      <td>prof123@jmu.edu</td>\n",
       "    </tr>\n",
       "    <tr>\n",
       "      <th>6</th>\n",
       "      <td>IA444</td>\n",
       "      <td>counterprolif</td>\n",
       "      <td>ISAT555</td>\n",
       "      <td>prof7@jmu.edu</td>\n",
       "    </tr>\n",
       "    <tr>\n",
       "      <th>7</th>\n",
       "      <td>IA333</td>\n",
       "      <td>counterprolif</td>\n",
       "      <td>ISAT555</td>\n",
       "      <td>prof7@jmu.edu</td>\n",
       "    </tr>\n",
       "  </tbody>\n",
       "</table>\n",
       "</div>"
      ],
      "text/plain": [
       "  c_number                    c_name     c_room          p_email\n",
       "0    IA340               Data Mining  ENGEO2010    weixx@jmu.edu\n",
       "1    IA313  Counterfactual Reasoning  ENGEO1204  hendrix@jmu.edu\n",
       "2    IA460                      WMDs    ISAT141   raabrw@jmu.edu\n",
       "3    IA341        Data Visualization    ISAT123    weixx@jmu.edu\n",
       "4   IA 150               Intro to IA   ISAT 111  prof123@jmu.edu\n",
       "5    IA300   Seminar on Issues in IA    ISAT150  prof123@jmu.edu\n",
       "6    IA444             counterprolif    ISAT555    prof7@jmu.edu\n",
       "7    IA333             counterprolif    ISAT555    prof7@jmu.edu"
      ]
     },
     "execution_count": 44,
     "metadata": {},
     "output_type": "execute_result"
    }
   ],
   "source": [
    "df=pandas.read_sql_query('select * from gp15.course',conn)\n",
    "df[:]"
   ]
  },
  {
   "cell_type": "markdown",
   "id": "4e250f4a",
   "metadata": {},
   "source": [
    "#q6"
   ]
  },
  {
   "cell_type": "code",
   "execution_count": 45,
   "id": "bc41a450",
   "metadata": {},
   "outputs": [],
   "source": [
    "q6_sql = \"\"\"\n",
    "            update gp15.course\n",
    "            set p_email='prof123@jmu.edu'\n",
    "            where p_email='marrinsp@jmu.edu'\n",
    "\"\"\""
   ]
  },
  {
   "cell_type": "code",
   "execution_count": 46,
   "id": "1059db71",
   "metadata": {},
   "outputs": [],
   "source": [
    "cur.execute(q6_sql)"
   ]
  },
  {
   "cell_type": "code",
   "execution_count": 47,
   "id": "3828b232",
   "metadata": {},
   "outputs": [],
   "source": [
    "conn.commit()"
   ]
  },
  {
   "cell_type": "code",
   "execution_count": 53,
   "id": "6f6a334c",
   "metadata": {},
   "outputs": [
    {
     "data": {
      "text/html": [
       "<div>\n",
       "<style scoped>\n",
       "    .dataframe tbody tr th:only-of-type {\n",
       "        vertical-align: middle;\n",
       "    }\n",
       "\n",
       "    .dataframe tbody tr th {\n",
       "        vertical-align: top;\n",
       "    }\n",
       "\n",
       "    .dataframe thead th {\n",
       "        text-align: right;\n",
       "    }\n",
       "</style>\n",
       "<table border=\"1\" class=\"dataframe\">\n",
       "  <thead>\n",
       "    <tr style=\"text-align: right;\">\n",
       "      <th></th>\n",
       "      <th>c_number</th>\n",
       "      <th>c_name</th>\n",
       "      <th>c_room</th>\n",
       "      <th>p_email</th>\n",
       "    </tr>\n",
       "  </thead>\n",
       "  <tbody>\n",
       "    <tr>\n",
       "      <th>0</th>\n",
       "      <td>IA340</td>\n",
       "      <td>Data Mining</td>\n",
       "      <td>ENGEO2010</td>\n",
       "      <td>weixx@jmu.edu</td>\n",
       "    </tr>\n",
       "    <tr>\n",
       "      <th>1</th>\n",
       "      <td>IA313</td>\n",
       "      <td>Counterfactual Reasoning</td>\n",
       "      <td>ENGEO1204</td>\n",
       "      <td>hendrix@jmu.edu</td>\n",
       "    </tr>\n",
       "    <tr>\n",
       "      <th>2</th>\n",
       "      <td>IA460</td>\n",
       "      <td>WMDs</td>\n",
       "      <td>ISAT141</td>\n",
       "      <td>raabrw@jmu.edu</td>\n",
       "    </tr>\n",
       "    <tr>\n",
       "      <th>3</th>\n",
       "      <td>IA341</td>\n",
       "      <td>Data Visualization</td>\n",
       "      <td>ISAT123</td>\n",
       "      <td>weixx@jmu.edu</td>\n",
       "    </tr>\n",
       "    <tr>\n",
       "      <th>4</th>\n",
       "      <td>IA 150</td>\n",
       "      <td>Intro to IA</td>\n",
       "      <td>ISAT 111</td>\n",
       "      <td>prof123@jmu.edu</td>\n",
       "    </tr>\n",
       "    <tr>\n",
       "      <th>5</th>\n",
       "      <td>IA300</td>\n",
       "      <td>Seminar on Issues in IA</td>\n",
       "      <td>ISAT150</td>\n",
       "      <td>prof123@jmu.edu</td>\n",
       "    </tr>\n",
       "    <tr>\n",
       "      <th>6</th>\n",
       "      <td>IA444</td>\n",
       "      <td>counterprolif</td>\n",
       "      <td>ISAT555</td>\n",
       "      <td>prof7@jmu.edu</td>\n",
       "    </tr>\n",
       "    <tr>\n",
       "      <th>7</th>\n",
       "      <td>IA333</td>\n",
       "      <td>counterprolif</td>\n",
       "      <td>ISAT555</td>\n",
       "      <td>prof7@jmu.edu</td>\n",
       "    </tr>\n",
       "  </tbody>\n",
       "</table>\n",
       "</div>"
      ],
      "text/plain": [
       "  c_number                    c_name     c_room          p_email\n",
       "0    IA340               Data Mining  ENGEO2010    weixx@jmu.edu\n",
       "1    IA313  Counterfactual Reasoning  ENGEO1204  hendrix@jmu.edu\n",
       "2    IA460                      WMDs    ISAT141   raabrw@jmu.edu\n",
       "3    IA341        Data Visualization    ISAT123    weixx@jmu.edu\n",
       "4   IA 150               Intro to IA   ISAT 111  prof123@jmu.edu\n",
       "5    IA300   Seminar on Issues in IA    ISAT150  prof123@jmu.edu\n",
       "6    IA444             counterprolif    ISAT555    prof7@jmu.edu\n",
       "7    IA333             counterprolif    ISAT555    prof7@jmu.edu"
      ]
     },
     "execution_count": 53,
     "metadata": {},
     "output_type": "execute_result"
    }
   ],
   "source": [
    "df=pandas.read_sql_query('select * from gp15.course',conn)\n",
    "df[:]"
   ]
  },
  {
   "cell_type": "code",
   "execution_count": 50,
   "id": "08164f44",
   "metadata": {},
   "outputs": [],
   "source": [
    "q6pt2_sql = \"\"\"\n",
    "            delete from gp15.professor\n",
    "            where p_email = 'marrinsp@jmu.edu'\n",
    "\"\"\""
   ]
  },
  {
   "cell_type": "code",
   "execution_count": 51,
   "id": "81cf5d5d",
   "metadata": {},
   "outputs": [],
   "source": [
    "cur.execute(q6pt2_sql)"
   ]
  },
  {
   "cell_type": "code",
   "execution_count": 52,
   "id": "b1847622",
   "metadata": {},
   "outputs": [],
   "source": [
    "conn.commit()"
   ]
  },
  {
   "cell_type": "code",
   "execution_count": 54,
   "id": "54b141c1",
   "metadata": {},
   "outputs": [
    {
     "data": {
      "text/html": [
       "<div>\n",
       "<style scoped>\n",
       "    .dataframe tbody tr th:only-of-type {\n",
       "        vertical-align: middle;\n",
       "    }\n",
       "\n",
       "    .dataframe tbody tr th {\n",
       "        vertical-align: top;\n",
       "    }\n",
       "\n",
       "    .dataframe thead th {\n",
       "        text-align: right;\n",
       "    }\n",
       "</style>\n",
       "<table border=\"1\" class=\"dataframe\">\n",
       "  <thead>\n",
       "    <tr style=\"text-align: right;\">\n",
       "      <th></th>\n",
       "      <th>p_email</th>\n",
       "      <th>p_name</th>\n",
       "      <th>p_office</th>\n",
       "    </tr>\n",
       "  </thead>\n",
       "  <tbody>\n",
       "    <tr>\n",
       "      <th>0</th>\n",
       "      <td>weixx@jmu.edu</td>\n",
       "      <td>Xuebin Wei</td>\n",
       "      <td>HHS112</td>\n",
       "    </tr>\n",
       "    <tr>\n",
       "      <th>1</th>\n",
       "      <td>raabrw@jmu.edu</td>\n",
       "      <td>Ronald Raab</td>\n",
       "      <td>ISAT156</td>\n",
       "    </tr>\n",
       "    <tr>\n",
       "      <th>2</th>\n",
       "      <td>hendrix@jmu.edu</td>\n",
       "      <td>Noel Hendrickson</td>\n",
       "      <td>ISAT117</td>\n",
       "    </tr>\n",
       "    <tr>\n",
       "      <th>3</th>\n",
       "      <td>prof123@jmu.edu</td>\n",
       "      <td>Bob Jones</td>\n",
       "      <td>ISAT 111</td>\n",
       "    </tr>\n",
       "    <tr>\n",
       "      <th>4</th>\n",
       "      <td>prof7@jmu.edu</td>\n",
       "      <td>Prof 7</td>\n",
       "      <td>ISAT123</td>\n",
       "    </tr>\n",
       "    <tr>\n",
       "      <th>5</th>\n",
       "      <td>prof8@jmu.edu</td>\n",
       "      <td>Prof 8</td>\n",
       "      <td>ISAT1234</td>\n",
       "    </tr>\n",
       "  </tbody>\n",
       "</table>\n",
       "</div>"
      ],
      "text/plain": [
       "           p_email            p_name  p_office\n",
       "0    weixx@jmu.edu        Xuebin Wei    HHS112\n",
       "1   raabrw@jmu.edu       Ronald Raab   ISAT156\n",
       "2  hendrix@jmu.edu  Noel Hendrickson   ISAT117\n",
       "3  prof123@jmu.edu         Bob Jones  ISAT 111\n",
       "4    prof7@jmu.edu            Prof 7   ISAT123\n",
       "5    prof8@jmu.edu            Prof 8  ISAT1234"
      ]
     },
     "execution_count": 54,
     "metadata": {},
     "output_type": "execute_result"
    }
   ],
   "source": [
    "df=pandas.read_sql_query('select * from gp15.professor',conn)\n",
    "df[:]"
   ]
  },
  {
   "cell_type": "markdown",
   "id": "efdf831c",
   "metadata": {},
   "source": [
    "#close the cursor and connection"
   ]
  },
  {
   "cell_type": "code",
   "execution_count": 71,
   "id": "b10683cd",
   "metadata": {},
   "outputs": [],
   "source": [
    "cur.close()\n",
    "conn.close()"
   ]
  },
  {
   "cell_type": "code",
   "execution_count": null,
   "id": "f2cf1b8f",
   "metadata": {},
   "outputs": [],
   "source": []
  }
 ],
 "metadata": {
  "kernelspec": {
   "display_name": "conda_python3",
   "language": "python",
   "name": "conda_python3"
  },
  "language_info": {
   "codemirror_mode": {
    "name": "ipython",
    "version": 3
   },
   "file_extension": ".py",
   "mimetype": "text/x-python",
   "name": "python",
   "nbconvert_exporter": "python",
   "pygments_lexer": "ipython3",
   "version": "3.6.13"
  }
 },
 "nbformat": 4,
 "nbformat_minor": 5
}
